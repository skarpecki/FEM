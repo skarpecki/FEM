{
 "cells": [
  {
   "cell_type": "code",
   "execution_count": 1,
   "metadata": {},
   "outputs": [
    {
     "name": "stdout",
     "output_type": "stream",
     "text": [
      "1: 0.0, 0.0\n",
      "2: 0.0, 0.03333333333333333\n",
      "3: 0.0, 0.06666666666666667\n",
      "4: 0.0, 0.1\n",
      "5: 0.03333333333333333, 0.0\n",
      "6: 0.03333333333333333, 0.03333333333333333\n",
      "7: 0.03333333333333333, 0.06666666666666667\n",
      "8: 0.03333333333333333, 0.1\n",
      "9: 0.06666666666666667, 0.0\n",
      "10: 0.06666666666666667, 0.03333333333333333\n",
      "11: 0.06666666666666667, 0.06666666666666667\n",
      "12: 0.06666666666666667, 0.1\n",
      "13: 0.1, 0.0\n",
      "14: 0.1, 0.03333333333333333\n",
      "15: 0.1, 0.06666666666666667\n",
      "16: 0.1, 0.1\n",
      "1: (1, 5, 6, 2)\n",
      "2: (2, 6, 7, 3)\n",
      "3: (3, 7, 8, 4)\n",
      "4: (5, 9, 10, 6)\n",
      "5: (6, 10, 11, 7)\n",
      "6: (7, 11, 12, 8)\n",
      "7: (9, 13, 14, 10)\n",
      "8: (10, 14, 15, 11)\n",
      "9: (11, 15, 16, 12)\n"
     ]
    }
   ],
   "source": [
    "import Siatka\n",
    "import pandas as pp\n",
    "import numpy as np"
   ]
  },
  {
   "cell_type": "code",
   "execution_count": 2,
   "metadata": {},
   "outputs": [],
   "source": [
    "path = \"C:\\\\Users\\\\Szymon\\\\PyProjects\\\\MES\\\\data\\\\first.txt\"\n",
    "s1 = Siatka.Siatka(path)"
   ]
  },
  {
   "cell_type": "code",
   "execution_count": 8,
   "metadata": {},
   "outputs": [
    {
     "name": "stdout",
     "output_type": "stream",
     "text": [
      "[Node(x=0.0, y=0.0), Node(x=0.03333333333333333, y=0.0), Node(x=0.03333333333333333, y=0.03333333333333333), Node(x=0.0, y=0.03333333333333333)]\n"
     ]
    }
   ],
   "source": [
    "Nodes = []\n",
    "Nodes.append(s1.Nodes[s1.Elements[1].id1])\n",
    "Nodes.append(s1.Nodes[s1.Elements[1].id2])\n",
    "Nodes.append(s1.Nodes[s1.Elements[1].id3])\n",
    "Nodes.append(s1.Nodes[s1.Elements[1].id4])\n",
    "print(Nodes)"
   ]
  },
  {
   "cell_type": "code",
   "execution_count": 22,
   "metadata": {},
   "outputs": [
    {
     "ename": "KeyError",
     "evalue": "0",
     "output_type": "error",
     "traceback": [
      "\u001b[1;31m---------------------------------------------------------------------------\u001b[0m",
      "\u001b[1;31mKeyError\u001b[0m                                  Traceback (most recent call last)",
      "\u001b[1;32m<ipython-input-22-4f532576817d>\u001b[0m in \u001b[0;36m<module>\u001b[1;34m\u001b[0m\n\u001b[0;32m      7\u001b[0m     \u001b[0mH\u001b[0m \u001b[1;33m=\u001b[0m \u001b[0mel\u001b[0m\u001b[1;33m.\u001b[0m\u001b[0mget_H_matrix\u001b[0m\u001b[1;33m(\u001b[0m\u001b[0mNodes\u001b[0m\u001b[1;33m,\u001b[0m \u001b[0mk\u001b[0m\u001b[1;33m=\u001b[0m\u001b[1;36m25\u001b[0m\u001b[1;33m)\u001b[0m\u001b[1;33m\u001b[0m\u001b[1;33m\u001b[0m\u001b[0m\n\u001b[0;32m      8\u001b[0m     \u001b[1;32mfor\u001b[0m \u001b[0mn\u001b[0m \u001b[1;32min\u001b[0m \u001b[0mrange\u001b[0m\u001b[1;33m(\u001b[0m\u001b[1;36m0\u001b[0m\u001b[1;33m,\u001b[0m \u001b[0mlen\u001b[0m\u001b[1;33m(\u001b[0m\u001b[0ms1\u001b[0m\u001b[1;33m.\u001b[0m\u001b[0mElements\u001b[0m\u001b[1;33m[\u001b[0m\u001b[0mi\u001b[0m\u001b[1;33m]\u001b[0m\u001b[1;33m.\u001b[0m\u001b[0mids\u001b[0m\u001b[1;33m)\u001b[0m\u001b[1;33m)\u001b[0m\u001b[1;33m:\u001b[0m\u001b[1;33m\u001b[0m\u001b[1;33m\u001b[0m\u001b[0m\n\u001b[1;32m----> 9\u001b[1;33m         \u001b[1;32mfor\u001b[0m \u001b[0mm\u001b[0m \u001b[1;32min\u001b[0m \u001b[0mrange\u001b[0m\u001b[1;33m(\u001b[0m\u001b[1;36m0\u001b[0m\u001b[1;33m,\u001b[0m \u001b[0mlen\u001b[0m\u001b[1;33m(\u001b[0m\u001b[0ms1\u001b[0m\u001b[1;33m.\u001b[0m\u001b[0mElements\u001b[0m\u001b[1;33m[\u001b[0m\u001b[0mi\u001b[0m\u001b[1;33m-\u001b[0m\u001b[1;36m1\u001b[0m\u001b[1;33m]\u001b[0m\u001b[1;33m.\u001b[0m\u001b[0mids\u001b[0m\u001b[1;33m)\u001b[0m\u001b[1;33m)\u001b[0m\u001b[1;33m:\u001b[0m\u001b[1;33m\u001b[0m\u001b[1;33m\u001b[0m\u001b[0m\n\u001b[0m\u001b[0;32m     10\u001b[0m             H_Global.itemset((s1.Elements[i-1].ids[n],\n\u001b[0;32m     11\u001b[0m                              s1.Elements[i-1].ids[m]),\n",
      "\u001b[1;31mKeyError\u001b[0m: 0"
     ]
    }
   ],
   "source": [
    "el = Siatka.Element_Uni_4()\n",
    "H_Global = np.matrix([[0.0 for i in range(s1.GlobalData.nE)] for j in range(s1.GlobalData.nE)])  \n",
    "for i in range(1, s1.GlobalData.nE + 1):\n",
    "    Nodes = []\n",
    "    for value in s1.Elements[i].ids:\n",
    "        Nodes.append(s1.Nodes[value])\n",
    "    H = el.get_H_matrix(Nodes, k=25)\n",
    "    for n in range(0, len(s1.Elements[i].ids)):\n",
    "        for m in range(0, len(s1.Elements[i].ids)):\n",
    "            H_Global.itemset((s1.Elements[i].ids[n],\n",
    "                             s1.Elements[i].ids[m]),\n",
    "                            H.item(n,m))\n"
   ]
  },
  {
   "cell_type": "code",
   "execution_count": 58,
   "metadata": {},
   "outputs": [
    {
     "data": {
      "text/plain": [
       "30.833333333333336"
      ]
     },
     "execution_count": 58,
     "metadata": {},
     "output_type": "execute_result"
    }
   ],
   "source": [
    "H.itemset((0,3),H.item((0,3)) + 7)\n",
    "H.item(0,3)"
   ]
  },
  {
   "cell_type": "code",
   "execution_count": 20,
   "metadata": {},
   "outputs": [
    {
     "name": "stdout",
     "output_type": "stream",
     "text": [
      "1\n",
      "5\n",
      "6\n",
      "2\n"
     ]
    }
   ],
   "source": [
    "len(s1.Elements[1].ids)\n",
    "for n in range(len(s1.Elements[1].ids)):\n",
    "    print(s1.Elements[1].ids[n])"
   ]
  },
  {
   "cell_type": "code",
   "execution_count": 49,
   "metadata": {},
   "outputs": [],
   "source": [
    "H_Global = np.matrix([[0.0 for i in range(s1.GlobalData.nE)] for j in range(s1.GlobalData.nE)]) "
   ]
  },
  {
   "cell_type": "code",
   "execution_count": 52,
   "metadata": {},
   "outputs": [
    {
     "data": {
      "text/plain": [
       "(9, 9)"
      ]
     },
     "execution_count": 52,
     "metadata": {},
     "output_type": "execute_result"
    }
   ],
   "source": [
    "H_Global.shape"
   ]
  },
  {
   "cell_type": "code",
   "execution_count": 26,
   "metadata": {},
   "outputs": [],
   "source": [
    "path2 = \"C:\\\\Users\\\\Szymon\\\\PyProjects\\\\MES\\\\data\\\\second.txt\"\n",
    "s2 = Siatka.Siatka(path)"
   ]
  },
  {
   "cell_type": "code",
   "execution_count": 30,
   "metadata": {},
   "outputs": [
    {
     "name": "stdout",
     "output_type": "stream",
     "text": [
      "1: 0.0, 0.0\n",
      "2: 0.0, 0.03333333333333333\n",
      "3: 0.0, 0.06666666666666667\n",
      "4: 0.0, 0.1\n",
      "5: 0.03333333333333333, 0.0\n",
      "6: 0.03333333333333333, 0.03333333333333333\n",
      "7: 0.03333333333333333, 0.06666666666666667\n",
      "8: 0.03333333333333333, 0.1\n",
      "9: 0.06666666666666667, 0.0\n",
      "10: 0.06666666666666667, 0.03333333333333333\n",
      "11: 0.06666666666666667, 0.06666666666666667\n",
      "12: 0.06666666666666667, 0.1\n",
      "13: 0.1, 0.0\n",
      "14: 0.1, 0.03333333333333333\n",
      "15: 0.1, 0.06666666666666667\n",
      "16: 0.1, 0.1\n"
     ]
    }
   ],
   "source": [
    "s2.list_nodes()"
   ]
  },
  {
   "cell_type": "code",
   "execution_count": 3,
   "metadata": {},
   "outputs": [
    {
     "name": "stdout",
     "output_type": "stream",
     "text": [
      "1: (1, 5, 6, 2)\n",
      "2: (2, 6, 7, 3)\n",
      "3: (3, 7, 8, 4)\n",
      "4: (5, 9, 10, 6)\n",
      "5: (6, 10, 11, 7)\n",
      "6: (7, 11, 12, 8)\n",
      "7: (9, 13, 14, 10)\n",
      "8: (10, 14, 15, 11)\n",
      "9: (11, 15, 16, 12)\n"
     ]
    }
   ],
   "source": [
    "s1.list_elements()"
   ]
  },
  {
   "cell_type": "code",
   "execution_count": 10,
   "metadata": {},
   "outputs": [
    {
     "name": "stdout",
     "output_type": "stream",
     "text": [
      "1\n",
      "5\n",
      "6\n",
      "2\n"
     ]
    }
   ],
   "source": [
    "for value in s1.Elements[1].ids:\n",
    "    print(value)"
   ]
  },
  {
   "cell_type": "code",
   "execution_count": null,
   "metadata": {},
   "outputs": [],
   "source": []
  }
 ],
 "metadata": {
  "kernelspec": {
   "display_name": "Python 3",
   "language": "python",
   "name": "python3"
  },
  "language_info": {
   "codemirror_mode": {
    "name": "ipython",
    "version": 3
   },
   "file_extension": ".py",
   "mimetype": "text/x-python",
   "name": "python",
   "nbconvert_exporter": "python",
   "pygments_lexer": "ipython3",
   "version": "3.8.5"
  }
 },
 "nbformat": 4,
 "nbformat_minor": 4
}
